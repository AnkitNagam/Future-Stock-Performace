{
  "nbformat": 4,
  "nbformat_minor": 0,
  "metadata": {
    "colab": {
      "name": "SVM and Decision Boundaries code.ipynb",
      "provenance": [],
      "collapsed_sections": [],
      "authorship_tag": "ABX9TyPK9HsA7l9g3bH/3z4PEFgn"
    },
    "kernelspec": {
      "name": "python3",
      "display_name": "Python 3"
    }
  },
  "cells": [
    {
      "cell_type": "code",
      "metadata": {
        "id": "vII7C_hphphz",
        "colab_type": "code",
        "colab": {
          "base_uri": "https://localhost:8080/",
          "height": 35
        },
        "outputId": "05aebf45-0e4d-44e5-83df-357534999317"
      },
      "source": [
        "from google.colab import drive\n",
        "drive.mount('/content/drive/')"
      ],
      "execution_count": null,
      "outputs": [
        {
          "output_type": "stream",
          "text": [
            "Drive already mounted at /content/drive/; to attempt to forcibly remount, call drive.mount(\"/content/drive/\", force_remount=True).\n"
          ],
          "name": "stdout"
        }
      ]
    },
    {
      "cell_type": "code",
      "metadata": {
        "id": "PI5MCS-8hqXD",
        "colab_type": "code",
        "colab": {}
      },
      "source": [
        "import sys\n",
        "import csv\n",
        "import math\n",
        "import numpy as np\n",
        "from operator import itemgetter\n",
        "import time\n",
        "import copy\n",
        "from sklearn.ensemble import GradientBoostingClassifier, AdaBoostClassifier\n",
        "from sklearn import svm,preprocessing\n",
        "from sklearn.ensemble import RandomForestClassifier, RandomForestRegressor\n",
        "from sklearn.externals import joblib\n",
        "from sklearn.feature_selection import RFE, VarianceThreshold, SelectFromModel\n",
        "from sklearn.feature_selection import SelectKBest, mutual_info_regression, mutual_info_classif, chi2\n",
        "from sklearn import metrics\n",
        "from sklearn.model_selection import cross_validate, train_test_split\n",
        "from sklearn.preprocessing import KBinsDiscretizer, scale\n",
        "from sklearn.linear_model import LogisticRegression\n",
        "from sklearn.feature_selection import SelectFromModel\n",
        "from sklearn.tree import DecisionTreeClassifier\n",
        "from sklearn.neural_network import MLPClassifier\n",
        "\n",
        "#Handle annoying warnings\n",
        "import warnings, sklearn.exceptions\n",
        "#warnings.filterwarnings(\"ignore\", category=sklearn.exceptions.ConvergenceWarning"
      ],
      "execution_count": null,
      "outputs": []
    },
    {
      "cell_type": "markdown",
      "metadata": {
        "id": "GdmshjafOiQZ",
        "colab_type": "text"
      },
      "source": [
        "Global Parameters"
      ]
    },
    {
      "cell_type": "code",
      "metadata": {
        "id": "uI7Ph538joUY",
        "colab_type": "code",
        "colab": {}
      },
      "source": [
        "target_idx=199                                        #Index of Target variable\n",
        "cross_val=1                                         #Control Switch for CV\n",
        "norm_target=0                                       #Normalize target switch\n",
        "norm_features=1                                     #Normalize target switch\n",
        "binning=1                                           #Control Switch for Bin Target\n",
        "bin_cnt=2                                           #If bin target, this sets number of classes\n",
        "feat_select=1                                       #Control Switch for Feature Selection\n",
        "fs_type=  1                                         #Feature Selection type (1=Stepwise Backwards Removal, 2=Wrapper Select, 3=Univariate Selection)\n",
        "lv_filter=0                                         #Control switch for low variance filter on features\n",
        "feat_start=0                                       #Start column of features\n",
        "k_cnt=2                                             #Number of 'Top k' best ranked features to select, only applies for fs_types 1 and 3\n",
        "\n",
        "#Set global model parameters\n",
        "rand_st=0                                           #Set Random State variable for randomizing splits on runs\n"
      ],
      "execution_count": null,
      "outputs": []
    },
    {
      "cell_type": "markdown",
      "metadata": {
        "id": "6F9R_gY5OtbE",
        "colab_type": "text"
      },
      "source": [
        "Load Data"
      ]
    },
    {
      "cell_type": "code",
      "metadata": {
        "id": "zQcwNEZAhqYu",
        "colab_type": "code",
        "colab": {
          "base_uri": "https://localhost:8080/",
          "height": 35
        },
        "outputId": "2b74c715-f5c7-49d9-9c48-f00cae0d8c17"
      },
      "source": [
        "file1= csv.reader(open('/content/drive/My Drive/Programming machine Learning/cleaned.csv'), delimiter=',', quotechar='\"')\n",
        "\n",
        "#Read Header Line\n",
        "header=next(file1) \n",
        "header           \n",
        "\n",
        "#Read data\n",
        "data=[]\n",
        "target=[]\n",
        "for row in file1:\n",
        "    #Load Target\n",
        "    if row[target_idx]=='':                         #If target is blank, skip row                       \n",
        "        continue\n",
        "    else:\n",
        "        target.append((row[target_idx]))       #If pre-binned class, change float to int\n",
        "\n",
        "    #Load row into temp array, cast columns  \n",
        "    temp=[]\n",
        "                 \n",
        "    for j in range(feat_start,len(header)-2):\n",
        "        if row[j]=='':\n",
        "            temp.append(float())\n",
        "        else:\n",
        "            temp.append((row[j]))\n",
        "\n",
        "    #Load temp into Data array\n",
        "    data.append(temp)\n",
        "  \n",
        "#Test Print\n",
        "# =============================================================================\n",
        "# header[0]\n",
        "# print(header)\n",
        "# print(len(target),len(data))\n",
        "# for i in range(10):\n",
        "#     print(target[i])\n",
        "#     print(data[i])\n",
        "# print('\\n')\n",
        "# \n",
        "# =============================================================================\n",
        "data_np=np.asarray(data)\n",
        "target_np=np.asarray(target)\n",
        "\n",
        "data_np.astype(np.float64)\n",
        "target_np.astype(np.float64)\n"
      ],
      "execution_count": null,
      "outputs": [
        {
          "output_type": "execute_result",
          "data": {
            "text/plain": [
              "array([1., 1., 1., ..., 0., 0., 1.])"
            ]
          },
          "metadata": {
            "tags": []
          },
          "execution_count": 26
        }
      ]
    },
    {
      "cell_type": "markdown",
      "metadata": {
        "id": "_EPLngCuOyDq",
        "colab_type": "text"
      },
      "source": [
        "Wrapper Feat Select Helper"
      ]
    },
    {
      "cell_type": "code",
      "metadata": {
        "id": "0BBzDiGKmJ0d",
        "colab_type": "code",
        "colab": {}
      },
      "source": [
        "#Recursive Function for searching thru feature space\n",
        "def feat_space_search(arr, curr_idx):\n",
        "    '''Setup currently as exhuastive search, but could be changed to use\n",
        "       greedy search, random search, genetic algorithms, etc. ... also\n",
        "       no regularization, so probably selects more features than necessary'''\n",
        "    global roll_idx, combo_ctr, best_score, sel_idx\n",
        "    \n",
        "    if curr_idx==feat_cnt:\n",
        "        #If end of feature array, roll thru combinations\n",
        "        roll_idx=roll_idx+1\n",
        "        print (\"Combos Searched so far:\", combo_ctr, \"Current Best Score:\", best_score)\n",
        "        for i in range(roll_idx, len(arr)):\n",
        "            arr[i]=0\n",
        "        if roll_idx<feat_cnt-1:\n",
        "            feat_space_search(arr, roll_idx+1)                                                                      #Recurse till end of rolls\n",
        "        \n",
        "    else:\n",
        "        #Else setup next feature combination and calc performance\n",
        "        arr[curr_idx]=1\n",
        "        data=data_np#_wrap                                                                                          #Temp array to hold data\n",
        "        temp_del=[i for i in range(len(arr)) if arr[i]==0]                                                          #Pick out features not in this combo, and remove\n",
        "        data = np.delete(data, temp_del, axis=1)\n",
        "        data_train, data_test, target_train, target_test = train_test_split(data, target_np, test_size=0.35)                \n",
        "\n",
        "        if binning==1:\n",
        "            if bin_cnt<=2:\n",
        "                scorers = {'Accuracy': 'accuracy', 'roc_auc': 'roc_auc'}\n",
        "                scores = cross_validate(clf, data_np, target_np, scoring=scorers, cv=5) \n",
        "                score = scores['test_roc_auc'].mean()                                                               #AUC\n",
        "            else:\n",
        "                scorers = {'Accuracy': 'accuracy'}\n",
        "                scores = cross_validate(clf, data_np, target_np, scoring=scorers, cv=5) \n",
        "                score = scores['test_Accuracy'].mean()                                                              #Accuracy\n",
        "            print('Random Forest Acc/AUC:', curr_idx, feat_arr, len(data[0]), score)\n",
        "            if score>best_score:                                                                                    #Compare performance and update sel_idx and best_score, if needed\n",
        "                best_score=score\n",
        "                sel_idx=copy.deepcopy(arr) \n",
        "                \n",
        "        if binning==0:\n",
        "            scorers = {'Neg_MSE': 'neg_mean_squared_error', 'expl_var': 'explained_variance'}\n",
        "            scores = cross_validate(rgr, data, target_np, scoring=scorers, cv=5)    \n",
        "            score = np.asarray([math.sqrt(-x) for x in scores['test_Neg_MSE']]).mean()                              #RMSE\n",
        "            print('Random Forest RMSE:', curr_idx, feat_arr, len(data[0]), score)\n",
        "            if score<best_score:                                                                                    #Compare performance and update sel_idx and best_score, if needed\n",
        "                best_score=score\n",
        "                sel_idx=copy.deepcopy(arr) \n",
        "\n",
        "        #move to next feature index and recurse\n",
        "        combo_ctr+=1  \n",
        "        curr_idx+=1\n",
        "        feat_space_search(arr, curr_idx)  "
      ],
      "execution_count": null,
      "outputs": []
    },
    {
      "cell_type": "markdown",
      "metadata": {
        "id": "_H5lhI3rO3ng",
        "colab_type": "text"
      },
      "source": [
        "Data Preprocessing"
      ]
    },
    {
      "cell_type": "code",
      "metadata": {
        "id": "QpmYYBjihqcJ",
        "colab_type": "code",
        "colab": {
          "base_uri": "https://localhost:8080/",
          "height": 90
        },
        "outputId": "4f65f69d-a444-4f6e-d433-eba903bda162"
      },
      "source": [
        "if norm_target==1:\n",
        "    #Target normalization for continuous values\n",
        "    target_np=scale(target_np)\n",
        "\n",
        "if norm_features==1:\n",
        "    #Feature normalization for continuous values\n",
        "    data_np=scale(data_np)\n",
        "\n",
        "'''if binning==1:\n",
        "    #Discretize Target variable with KBinsDiscretizer\n",
        "    enc = KBinsDiscretizer(n_bins=[bin_cnt], encode='ordinal', strategy='quantile')                         #Strategy here is important, quantile creating equal bins, but kmeans prob being more valid \"clusters\"\n",
        "    target_np_bin = enc.fit_transform(target_np.reshape(-1,1))\n",
        "\n",
        "    #Get Bin min/max\n",
        "    temp=[[] for x in range(bin_cnt+1)]\n",
        "    for i in range(len(target_np)):\n",
        "        for j in range(bin_cnt):\n",
        "            if target_np_bin[i]==j:\n",
        "                temp[j].append(target_np[i])\n",
        "\n",
        "    for j in range(bin_cnt):\n",
        "        print('Bin', j, ':', min(temp[j]), max(temp[j]), len(temp[j]))\n",
        "    print('\\n')\n",
        "\n",
        "    #Convert Target array back to correct shape\n",
        "    target_np=np.ravel(target_np_bin)'''\n"
      ],
      "execution_count": null,
      "outputs": [
        {
          "output_type": "stream",
          "text": [
            "/usr/local/lib/python3.6/dist-packages/sklearn/preprocessing/_data.py:173: UserWarning: Numerical issues were encountered when centering the data and might not be solved. Dataset may contain too large values. You may need to prescale your features.\n",
            "  warnings.warn(\"Numerical issues were encountered \"\n"
          ],
          "name": "stderr"
        },
        {
          "output_type": "execute_result",
          "data": {
            "text/plain": [
              "'if binning==1:\\n    #Discretize Target variable with KBinsDiscretizer\\n    enc = KBinsDiscretizer(n_bins=[bin_cnt], encode=\\'ordinal\\', strategy=\\'quantile\\')                         #Strategy here is important, quantile creating equal bins, but kmeans prob being more valid \"clusters\"\\n    target_np_bin = enc.fit_transform(target_np.reshape(-1,1))\\n\\n    #Get Bin min/max\\n    temp=[[] for x in range(bin_cnt+1)]\\n    for i in range(len(target_np)):\\n        for j in range(bin_cnt):\\n            if target_np_bin[i]==j:\\n                temp[j].append(target_np[i])\\n\\n    for j in range(bin_cnt):\\n        print(\\'Bin\\', j, \\':\\', min(temp[j]), max(temp[j]), len(temp[j]))\\n    print(\\'\\n\\')\\n\\n    #Convert Target array back to correct shape\\n    target_np=np.ravel(target_np_bin)'"
            ]
          },
          "metadata": {
            "tags": []
          },
          "execution_count": 28
        }
      ]
    },
    {
      "cell_type": "markdown",
      "metadata": {
        "id": "MFKxtkw1O-ih",
        "colab_type": "text"
      },
      "source": [
        "Feature Selection"
      ]
    },
    {
      "cell_type": "code",
      "metadata": {
        "id": "R-rJt2NQhqd7",
        "colab_type": "code",
        "colab": {
          "base_uri": "https://localhost:8080/",
          "height": 299
        },
        "outputId": "437d8ee3-5479-4a2f-c462-6ee3dc5ee12e"
      },
      "source": [
        "#Low Variance Filter\n",
        "if lv_filter==1:\n",
        "    print('--LOW VARIANCE FILTER ON--', '\\n')\n",
        "    \n",
        "    #LV Threshold\n",
        "    sel = VarianceThreshold(threshold=1)                                      #Removes any feature with less than 20% variance\n",
        "    fit_mod=sel.fit(data_np)\n",
        "    fitted=sel.transform(data_np)\n",
        "    sel_idx=fit_mod.get_support()\n",
        "\n",
        "    #Get lists of selected and non-selected features (names and indexes)\n",
        "    temp=[]\n",
        "    temp_idx=[]\n",
        "    temp_del=[]\n",
        "    for i in range(len(data_np[0])):\n",
        "        if sel_idx[i]==1:                                                           #Selected Features get added to temp header\n",
        "            temp.append(header[i+feat_start])\n",
        "            temp_idx.append(i)\n",
        "        else:                                                                       #Indexes of non-selected features get added to delete array\n",
        "            temp_del.append(i)\n",
        "\n",
        "    print('Selected', temp)\n",
        "    print('Features (total, selected):', len(data_np[0]), len(temp))\n",
        "    print('\\n')\n",
        "\n",
        "    #Filter selected columns from original dataset\n",
        "    header = header[0:feat_start]\n",
        "    for field in temp:\n",
        "        header.append(field)\n",
        "    data_np = np.delete(data_np, temp_del, axis=1)                                 #Deletes non-selected features by index\n",
        "\n",
        "\n",
        "#Feature Selection\n",
        "if feat_select==1:\n",
        "    '''Three steps:\n",
        "       1) Run Feature Selection\n",
        "       2) Get lists of selected and non-selected features\n",
        "       3) Filter columns from original dataset\n",
        "       '''\n",
        "    \n",
        "    print('--FEATURE SELECTION ON--', '\\n')\n",
        "    \n",
        "    ##1) Run Feature Selection #######\n",
        "    if fs_type==1:\n",
        "        #Stepwise Recursive Backwards Feature removal\n",
        "        if binning==1:\n",
        "            clf = RandomForestClassifier(n_estimators=200, max_depth=None, min_samples_split=3, criterion='entropy', random_state=rand_st)\n",
        "            sel = RFE(clf, n_features_to_select=k_cnt, step=.1)\n",
        "            print('Stepwise Recursive Backwards - Random Forest: ')\n",
        "        if binning==0:\n",
        "            rgr = RandomForestRegressor(n_estimators=500, max_depth=None, min_samples_split=3, criterion='mse', random_state=rand_st)\n",
        "            sel = RFE(rgr, n_features_to_select=k_cnt, step=.1)\n",
        "            print('Stepwise Recursive Backwards - Random Forest: ')\n",
        "            \n",
        "        fit_mod=sel.fit(data_np, target_np)\n",
        "        print(sel.ranking_)\n",
        "        sel_idx=fit_mod.get_support()      \n",
        "\n",
        "    if fs_type==2:\n",
        "        #Wrapper Select via model\n",
        "        if binning==1:\n",
        "            clf = svm.SVC(kernel = 'linear',gamma = 'scale',C = 1.0, probability = True, random_state = rand_st)\n",
        "            sel = SelectFromModel(clf, prefit=False, threshold='mean', max_features=None)                                                           #to select only based on max_features, set to integer value and set threshold=-np.inf\n",
        "            print ('Wrapper Select: ')\n",
        "        if binning==0:\n",
        "            rgr = '''Unused in this homework'''\n",
        "            sel = SelectFromModel(rgr, prefit=False, threshold='mean', max_features=None)\n",
        "            print ('Wrapper Select: ')\n",
        "            \n",
        "        fit_mod=sel.fit(data_np, target_np)    \n",
        "        sel_idx=fit_mod.get_support()\n",
        "\n",
        "    if fs_type==3:\n",
        "        if binning==0:                                                              ######Only work if the Target is binned###########\n",
        "            #Univariate Feature Selection - Chi-squared\n",
        "            sel=SelectKBest(chi2, k=k_cnt)\n",
        "            fit_mod=sel.fit(data_np, target_np)                                         #will throw error if any negative values in features, so turn off feature normalization, or switch to mutual_info_classif\n",
        "            print ('Univariate Feature Selection - Chi2: ')\n",
        "            sel_idx=fit_mod.get_support()\n",
        "\n",
        "        if binning==1:                                                              ######Only work if the Target is continuous###########\n",
        "            #Univariate Feature Selection - Mutual Info Regression\n",
        "            sel=SelectKBest(mutual_info_classif, k=k_cnt)\n",
        "            fit_mod=sel.fit(data_np, target_np)\n",
        "            print ('Univariate Feature Selection - Mutual Info: ')\n",
        "            sel_idx=fit_mod.get_support()\n",
        "\n",
        "        #Print ranked variables out sorted\n",
        "        temp=[]\n",
        "        scores=fit_mod.scores_\n",
        "        for i in range(feat_start, len(header)-2):            \n",
        "            temp.append([header[i], float(scores[i-feat_start])])\n",
        "\n",
        "        print('Ranked Features')\n",
        "        temp_sort=sorted(temp, key=itemgetter(1), reverse=True)\n",
        "        for i in range(len(temp_sort)):\n",
        "            print(i, temp_sort[i][0], ':', temp_sort[i][1])\n",
        "        print('\\n')\n",
        "    \n",
        "    if fs_type==4:\n",
        "        #Full-blown Wrapper Select (from any kind of ML model)        \n",
        "        if binning==1:                                                              ######Only work if the Target is binned###########\n",
        "            start_ts=time.time()\n",
        "            sel_idx=[]                                                                                      #Empty array to hold optimal selected feature set\n",
        "            best_score=0                                                                                    #For classification compare Accuracy or AUC, higher is better, so start with 0\n",
        "            feat_cnt=len(data_np[0])\n",
        "            #Create Wrapper model\n",
        "            clf = svm.SVC(kernel = 'linear',gamma = 0.1, C = 1.0)                                 #This could be any kind of classifier model\n",
        "      \n",
        "        if binning==0:                                                              ######Only work if the Target is continuous###########\n",
        "            start_ts=time.time()\n",
        "            sel_idx=[]                                                                                      #Empty array to hold optimal selected feature set\n",
        "            best_score=sys.float_info.max                                                                   #For regression compare RMSE, lower is better, so start with max sys float value\n",
        "            feat_cnt=len(data_np[0])\n",
        "            #Create Wrapper model\n",
        "            rgr = svm.SVR(kernel = 'linear',gamma = 0.1, C = 1.0)                    #This could be any kind of regressor model         \n",
        "        \n",
        "        #Loop thru feature sets\n",
        "        roll_idx=0\n",
        "        combo_ctr=0\n",
        "        feat_arr=[0 for col in range(feat_cnt)]                                         #Initialize feature array\n",
        "        for idx in range(feat_cnt):\n",
        "            roll_idx=idx\n",
        "            feat_space_search(feat_arr, idx)                                           #Recurse\n",
        "            feat_arr=[0 for col in range(feat_cnt)]                                     #Reset feature array after each iteration\n",
        "        \n",
        "        print('# of Feature Combos Tested:', combo_ctr)\n",
        "        print(best_score, sel_idx, len(data_np[0]))\n",
        "        print(\"Wrapper Feat Sel Runtime:\", time.time()-start_ts)\n",
        "\n",
        "    if fs_type ==5:\n",
        "      print(\"L2 Regularization\")\n",
        "      sel = SelectFromModel(LogisticRegression(penalty = 'l2', C = 1.0, solver = 'liblinear'))\n",
        "      sel.fit(data_np, target_np)\n",
        "      sel_idx = sel.get_support()\n",
        "\n",
        "    ##2) Get lists of selected and non-selected features (names and indexes) #######\n",
        "    temp=[]\n",
        "    temp_idx=[]\n",
        "    temp_del=[]\n",
        "    for i in range(len(data_np[0])):\n",
        "        if sel_idx[i]==1:                                                           #Selected Features get added to temp header\n",
        "            temp.append(header[i+feat_start])\n",
        "            temp_idx.append(i)\n",
        "        else:                                                                       #Indexes of non-selected features get added to delete array\n",
        "            temp_del.append(i)\n",
        "    print('Selected', temp)\n",
        "    print('Features (total/selected):', len(data_np[0]), len(temp))\n",
        "    print('\\n')\n",
        "            \n",
        "                \n",
        "    ##3) Filter selected columns from original dataset #########\n",
        "    header = header[0:feat_start]\n",
        "    for field in temp:\n",
        "        header.append(field)\n",
        "    data_np = np.delete(data_np, temp_del, axis=1)                                 #Deletes non-selected features by index)\n"
      ],
      "execution_count": null,
      "outputs": [
        {
          "output_type": "stream",
          "text": [
            "--FEATURE SELECTION ON-- \n",
            "\n",
            "Stepwise Recursive Backwards - Random Forest: \n",
            "[10  3 10 10  8  7  8 12  7  4  3  4  4  3  5  5  9  8  4  7  2 10  8  3\n",
            "  4 11  8  3  8  7 12  7  8 10 11 12  2  2  9 12  4 11 10 12  3  3  9  5\n",
            "  5  7  6  5  3  6  7  8  8 12  9  4  7  5 12  6 11  5  9  9  4  9  5  4\n",
            " 11  3  3  5 11  4  3 11 12  6 12 10  9  4  6 10 12 10  8 12  5  7  5  6\n",
            "  5 12 11 10 12  9 11 11  9  6  7  9  6  6  9  5 11  6  5  9 10  1  8  8\n",
            "  6  6  3  6  9  3  9  7  3  3 11  6  7  7  7  4  6  1  8 11 11  4  8 11\n",
            "  5 12 11  8 10 10 10  8 11 12 10  4  6  3  2  5  2 11 10 12  8 10 12  7\n",
            "  8 12  9  9  3  6  4  5  8  7  4  2  4  5  6  5  9 11  9 10  7  4  7 12\n",
            "  6 10  3  4  7  3]\n",
            "Selected ['Net Income per Share', 'Earnings Yield']\n",
            "Features (total/selected): 198 2\n",
            "\n",
            "\n"
          ],
          "name": "stdout"
        }
      ]
    },
    {
      "cell_type": "markdown",
      "metadata": {
        "id": "xZ1cAli3PDRN",
        "colab_type": "text"
      },
      "source": [
        "Train SciKit Models"
      ]
    },
    {
      "cell_type": "code",
      "metadata": {
        "id": "pSH8DeFbhqik",
        "colab_type": "code",
        "colab": {
          "base_uri": "https://localhost:8080/",
          "height": 246
        },
        "outputId": "c1795e96-8758-41f0-a981-4329bf41258b"
      },
      "source": [
        "print('--ML Model Output--', '\\n')\n",
        "\n",
        "#Test/Train split\n",
        "data_train, data_test, target_train, target_test = train_test_split(data_np, target_np, test_size=0.35)\n",
        "\n",
        "####Classifiers####\n",
        "if binning==1 and cross_val==0:\n",
        "    #SciKit\n",
        "    '''Test/Train split unused in this homework, skip down to CV section'''\n",
        " \n",
        "\n",
        "                                                                                                                         \n",
        " \n",
        "####Cross-Val Classifiers####\n",
        "if binning==1 and cross_val==1:\n",
        "    print(data_train)\n",
        "    print(target_train)\n",
        "    #Setup Crossval classifier scorers\n",
        "    scorers = {'Accuracy': 'accuracy', 'roc_auc': 'roc_auc'}                                                                                                                \n",
        "    \n",
        "    #SciKit SVM - Cross Val\n",
        "    start_ts=time.time()\n",
        "    clf= svm.SVC(kernel = 'rbf',gamma = 'scale',C = 1.0, probability = True, random_state = rand_st)\n",
        "    scores= cross_validate(clf,data_np.astype(np.float),target_np.astype(np.float),scoring = scorers,cv =5)\n",
        "\n",
        "    scores_Acc = scores['test_Accuracy']                                                                                                                                    \n",
        "    print(\"SVM Acc: %0.2f (+/- %0.2f)\" % (scores_Acc.mean(), scores_Acc.std() * 2))                                                                                                    \n",
        "    scores_AUC= scores['test_roc_auc']                                                                     #Only works with binary classes, not multiclass                  \n",
        "    print(\"SVM AUC: %0.2f (+/- %0.2f)\" % (scores_AUC.mean(), scores_AUC.std() * 2))                           \n",
        "    print(\"CV Runtime:\", time.time()-start_ts)\n",
        "\n",
        "\n",
        "\n",
        "\n"
      ],
      "execution_count": null,
      "outputs": [
        {
          "output_type": "stream",
          "text": [
            "--ML Model Output-- \n",
            "\n",
            "[[-0.45927171  0.00469695]\n",
            " [-0.39416337  0.12434935]\n",
            " [-0.2895851   0.2766605 ]\n",
            " ...\n",
            " [ 1.40050173  0.83844876]\n",
            " [-0.28371579  0.29689158]\n",
            " [-0.04191408  0.51423121]]\n",
            "['1' '1' '1' ... '1' '1' '1']\n",
            "SVM Acc: 0.72 (+/- 0.03)\n",
            "SVM AUC: 0.67 (+/- 0.07)\n",
            "CV Runtime: 10.486029148101807\n"
          ],
          "name": "stdout"
        }
      ]
    },
    {
      "cell_type": "markdown",
      "metadata": {
        "id": "U6HmI8FcPKRI",
        "colab_type": "text"
      },
      "source": [
        "Network Boundary"
      ]
    },
    {
      "cell_type": "code",
      "metadata": {
        "id": "fNzWKiFTnbiL",
        "colab_type": "code",
        "colab": {
          "base_uri": "https://localhost:8080/",
          "height": 424
        },
        "outputId": "289bf566-a4e1-4312-dddf-ffeaf4df837a"
      },
      "source": [
        "from mlxtend.plotting import plot_decision_regions\n",
        "import matplotlib.pyplot as plt\n",
        "#clf1= svm.SVC(kernel = 'rbf',gamma = 'auto',C = 0.5, probability = False, random_state = rand_st).fit(data_train.astype(np.float),target_train.astype(np.integer))\n",
        "\n",
        "#clf1 = DecisionTreeClassifier(criterion='gini', splitter='best', max_depth=None, min_samples_split=3, min_samples_leaf=1, max_features=None, random_state=rand_st).fit(data_train.astype(np.float),target_train.astype(np.integer))\n",
        "#clf1 = RandomForestClassifier(n_estimators=2, max_depth=None, min_samples_split=3, criterion='entropy', random_state=rand_st).fit(data_train.astype(np.float),target_train.astype(np.integer))\n",
        "#clf1 = LogisticRegression(max_iter=250, solver = 'liblinear').fit(data_train.astype(np.float),target_train.astype(np.integer))\n",
        "#clf1=AdaBoostClassifier(n_estimators=100, base_estimator = None,learning_rate=0.1,random_state = rand_st).fit(data_train.astype(np.float),target_train.astype(np.integer))\n",
        "#clf1=GradientBoostingClassifier(loss = \"deviance\",n_estimators=100,learning_rate=0.1,max_depth=3,min_samples_split=3,random_state = rand_st).fit(data_train.astype(np.float),target_train.astype(np.integer))\n",
        "X_scaled = preprocessing.scale(data_train)\n",
        "clf1=MLPClassifier(activation= \"logistic\",solver = \"lbfgs\",alpha = 0.0001, max_iter = 10000,hidden_layer_sizes=(200,200),random_state = rand_st).fit(X_scaled.astype(np.float),target_train.astype(np.integer))\n",
        "\n",
        "plot_decision_regions(X=data_train.astype(np.float), \n",
        "                      y=target_train.astype(np.integer),\n",
        "                      clf=clf1,\n",
        "                      legend=2)\n",
        "\n",
        "# Update plot object with X/Y axis labels and Figure Title\n",
        "plt.xlabel('Net Income per share',size=14)\n",
        "plt.ylabel('Earnings Yield',size=14)\n",
        "plt.title('Neural Network Region Boundary', size=16)"
      ],
      "execution_count": null,
      "outputs": [
        {
          "output_type": "stream",
          "text": [
            "/usr/local/lib/python3.6/dist-packages/sklearn/neural_network/_multilayer_perceptron.py:470: ConvergenceWarning: lbfgs failed to converge (status=1):\n",
            "STOP: TOTAL NO. of ITERATIONS REACHED LIMIT.\n",
            "\n",
            "Increase the number of iterations (max_iter) or scale the data as shown in:\n",
            "    https://scikit-learn.org/stable/modules/preprocessing.html\n",
            "  self.n_iter_ = _check_optimize_result(\"lbfgs\", opt_res, self.max_iter)\n"
          ],
          "name": "stderr"
        },
        {
          "output_type": "execute_result",
          "data": {
            "text/plain": [
              "Text(0.5, 1.0, 'Neural Network Region Boundary')"
            ]
          },
          "metadata": {
            "tags": []
          },
          "execution_count": 39
        },
        {
          "output_type": "display_data",
          "data": {
            "image/png": "[encoded data removed]",
            "text/plain": [
              "<Figure size 432x288 with 1 Axes>"
            ]
          },
          "metadata": {
            "tags": []
          }
        }
      ]
    }
  ]
}